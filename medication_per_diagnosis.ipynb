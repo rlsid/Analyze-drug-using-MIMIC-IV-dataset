{
 "cells": [
  {
   "cell_type": "code",
   "execution_count": 2,
   "id": "e9e50a9d",
   "metadata": {},
   "outputs": [],
   "source": [
    "import pymysql\n",
    "import pandas as pd"
   ]
  },
  {
   "cell_type": "code",
   "execution_count": 36,
   "id": "38631abd",
   "metadata": {},
   "outputs": [
    {
     "name": "stdout",
     "output_type": "stream",
     "text": [
      "Dataframe saved to Excel file successfully!\n"
     ]
    }
   ],
   "source": [
    "# 데이터베이스 접속 정보 설정\n",
    "connection = pymysql.connect(\n",
    "    host='ahnbi1.suwon.ac.kr',\n",
    "    user='mimic4_mon_5_reader',\n",
    "    password='suwondatabase',\n",
    "    db='mimic4_fri_7'\n",
    ")\n",
    "\n",
    "try:\n",
    "    with connection.cursor() as cursor:\n",
    "        # SQL 쿼리 작성\n",
    "        query = \"\"\"\n",
    "        WITH medication_list AS (\n",
    "            SELECT DISTINCT medication, subject_id\n",
    "            FROM hosp_emar\n",
    "            GROUP BY medication\n",
    "        ), medication_per_diagnosis AS\n",
    "        (\n",
    "            SELECT DISTINCT icd_code, subject_id, GROUP_CONCAT(medication) AS medication\n",
    "            FROM hosp_diagnoses_icd NATURAL JOIN medication_list\n",
    "            GROUP BY icd_code\n",
    "            ORDER BY icd_code\n",
    "        )\n",
    "        SELECT DISTINCT icd_code, long_title, medication\n",
    "        FROM hosp_d_icd_diagnoses NATURAL JOIN medication_per_diagnosis\n",
    "        GROUP BY icd_code;\n",
    "        \"\"\"\n",
    "        \n",
    "        # 쿼리 실행 및 결과 가져오기\n",
    "        cursor.execute(query)\n",
    "        result = cursor.fetchall()\n",
    "        \n",
    "        # 결과를 데이터프레임으로 변환\n",
    "        df4 = pd.DataFrame(result, columns=['icd_code', 'long_title', 'medication'])\n",
    " \n",
    "        # 결과 출력\n",
    "        #print(df4.head(50))\n",
    "        \n",
    "        # 엑셀 파일로 저장\n",
    "        excel_file_path = \"medication_per_diagnosis.xlsx\"\n",
    "        df4.to_excel(excel_file_path, index=False)  # 인덱스는 저장하지 않음\n",
    "        \n",
    "        print(\"Dataframe saved to Excel file successfully!\")\n",
    "\n",
    "except Exception as e:\n",
    "    print(f\"An error occurred: {e}\")\n",
    "    connection.rollback()  # 오류 발생 시 롤백\n",
    "\n",
    "finally:\n",
    "    # 데이터베이스 연결 닫기\n",
    "    if connection:\n",
    "        connection.close()"
   ]
  },
  {
   "cell_type": "code",
   "execution_count": 35,
   "id": "01b445c2",
   "metadata": {},
   "outputs": [
    {
     "name": "stdout",
     "output_type": "stream",
     "text": [
      "9849\n"
     ]
    }
   ],
   "source": [
    "print(len(df4))"
   ]
  }
 ],
 "metadata": {
  "kernelspec": {
   "display_name": "Python 3 (ipykernel)",
   "language": "python",
   "name": "python3"
  },
  "language_info": {
   "codemirror_mode": {
    "name": "ipython",
    "version": 3
   },
   "file_extension": ".py",
   "mimetype": "text/x-python",
   "name": "python",
   "nbconvert_exporter": "python",
   "pygments_lexer": "ipython3",
   "version": "3.9.13"
  },
  "toc": {
   "base_numbering": 1,
   "nav_menu": {},
   "number_sections": true,
   "sideBar": true,
   "skip_h1_title": false,
   "title_cell": "Table of Contents",
   "title_sidebar": "Contents",
   "toc_cell": false,
   "toc_position": {},
   "toc_section_display": true,
   "toc_window_display": false
  }
 },
 "nbformat": 4,
 "nbformat_minor": 5
}
